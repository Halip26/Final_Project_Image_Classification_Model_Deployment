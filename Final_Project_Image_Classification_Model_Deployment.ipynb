{
  "cells": [
    {
      "cell_type": "code",
      "execution_count": 1,
      "metadata": {
        "id": "SiVp008MNSMK"
      },
      "outputs": [],
      "source": [
        "!pip install -q kaggle"
      ]
    },
    {
      "cell_type": "code",
      "execution_count": 2,
      "metadata": {
        "id": "7AkpI5xjaBJ0"
      },
      "outputs": [],
      "source": [
        "import shutil\n",
        "import sklearn\n",
        "import tensorflow as tf\n",
        "import matplotlib.pyplot as plt\n",
        "from tensorflow.keras.preprocessing.image import ImageDataGenerator\n",
        "from tensorflow.keras.models import Sequential\n",
        "from tensorflow.keras.layers import Conv2D, MaxPooling2D, Dropout, Flatten, Dense, BatchNormalization\n",
        "from tensorflow.keras.optimizers import Adam\n",
        "from tensorflow.keras.callbacks import ModelCheckpoint, EarlyStopping, ReduceLROnPlateau"
      ]
    },
    {
      "cell_type": "code",
      "execution_count": 3,
      "metadata": {
        "colab": {
          "base_uri": "https://localhost:8080/",
          "height": 90
        },
        "id": "kxZOqsm0NkE_",
        "outputId": "43874e4a-5818-47a5-f81d-28df6c0de7ae"
      },
      "outputs": [
        {
          "output_type": "display_data",
          "data": {
            "text/plain": [
              "<IPython.core.display.HTML object>"
            ],
            "text/html": [
              "\n",
              "     <input type=\"file\" id=\"files-d6b8620e-f0e3-4e6b-875b-8289f5bb222a\" name=\"files[]\" multiple disabled\n",
              "        style=\"border:none\" />\n",
              "     <output id=\"result-d6b8620e-f0e3-4e6b-875b-8289f5bb222a\">\n",
              "      Upload widget is only available when the cell has been executed in the\n",
              "      current browser session. Please rerun this cell to enable.\n",
              "      </output>\n",
              "      <script>// Copyright 2017 Google LLC\n",
              "//\n",
              "// Licensed under the Apache License, Version 2.0 (the \"License\");\n",
              "// you may not use this file except in compliance with the License.\n",
              "// You may obtain a copy of the License at\n",
              "//\n",
              "//      http://www.apache.org/licenses/LICENSE-2.0\n",
              "//\n",
              "// Unless required by applicable law or agreed to in writing, software\n",
              "// distributed under the License is distributed on an \"AS IS\" BASIS,\n",
              "// WITHOUT WARRANTIES OR CONDITIONS OF ANY KIND, either express or implied.\n",
              "// See the License for the specific language governing permissions and\n",
              "// limitations under the License.\n",
              "\n",
              "/**\n",
              " * @fileoverview Helpers for google.colab Python module.\n",
              " */\n",
              "(function(scope) {\n",
              "function span(text, styleAttributes = {}) {\n",
              "  const element = document.createElement('span');\n",
              "  element.textContent = text;\n",
              "  for (const key of Object.keys(styleAttributes)) {\n",
              "    element.style[key] = styleAttributes[key];\n",
              "  }\n",
              "  return element;\n",
              "}\n",
              "\n",
              "// Max number of bytes which will be uploaded at a time.\n",
              "const MAX_PAYLOAD_SIZE = 100 * 1024;\n",
              "\n",
              "function _uploadFiles(inputId, outputId) {\n",
              "  const steps = uploadFilesStep(inputId, outputId);\n",
              "  const outputElement = document.getElementById(outputId);\n",
              "  // Cache steps on the outputElement to make it available for the next call\n",
              "  // to uploadFilesContinue from Python.\n",
              "  outputElement.steps = steps;\n",
              "\n",
              "  return _uploadFilesContinue(outputId);\n",
              "}\n",
              "\n",
              "// This is roughly an async generator (not supported in the browser yet),\n",
              "// where there are multiple asynchronous steps and the Python side is going\n",
              "// to poll for completion of each step.\n",
              "// This uses a Promise to block the python side on completion of each step,\n",
              "// then passes the result of the previous step as the input to the next step.\n",
              "function _uploadFilesContinue(outputId) {\n",
              "  const outputElement = document.getElementById(outputId);\n",
              "  const steps = outputElement.steps;\n",
              "\n",
              "  const next = steps.next(outputElement.lastPromiseValue);\n",
              "  return Promise.resolve(next.value.promise).then((value) => {\n",
              "    // Cache the last promise value to make it available to the next\n",
              "    // step of the generator.\n",
              "    outputElement.lastPromiseValue = value;\n",
              "    return next.value.response;\n",
              "  });\n",
              "}\n",
              "\n",
              "/**\n",
              " * Generator function which is called between each async step of the upload\n",
              " * process.\n",
              " * @param {string} inputId Element ID of the input file picker element.\n",
              " * @param {string} outputId Element ID of the output display.\n",
              " * @return {!Iterable<!Object>} Iterable of next steps.\n",
              " */\n",
              "function* uploadFilesStep(inputId, outputId) {\n",
              "  const inputElement = document.getElementById(inputId);\n",
              "  inputElement.disabled = false;\n",
              "\n",
              "  const outputElement = document.getElementById(outputId);\n",
              "  outputElement.innerHTML = '';\n",
              "\n",
              "  const pickedPromise = new Promise((resolve) => {\n",
              "    inputElement.addEventListener('change', (e) => {\n",
              "      resolve(e.target.files);\n",
              "    });\n",
              "  });\n",
              "\n",
              "  const cancel = document.createElement('button');\n",
              "  inputElement.parentElement.appendChild(cancel);\n",
              "  cancel.textContent = 'Cancel upload';\n",
              "  const cancelPromise = new Promise((resolve) => {\n",
              "    cancel.onclick = () => {\n",
              "      resolve(null);\n",
              "    };\n",
              "  });\n",
              "\n",
              "  // Wait for the user to pick the files.\n",
              "  const files = yield {\n",
              "    promise: Promise.race([pickedPromise, cancelPromise]),\n",
              "    response: {\n",
              "      action: 'starting',\n",
              "    }\n",
              "  };\n",
              "\n",
              "  cancel.remove();\n",
              "\n",
              "  // Disable the input element since further picks are not allowed.\n",
              "  inputElement.disabled = true;\n",
              "\n",
              "  if (!files) {\n",
              "    return {\n",
              "      response: {\n",
              "        action: 'complete',\n",
              "      }\n",
              "    };\n",
              "  }\n",
              "\n",
              "  for (const file of files) {\n",
              "    const li = document.createElement('li');\n",
              "    li.append(span(file.name, {fontWeight: 'bold'}));\n",
              "    li.append(span(\n",
              "        `(${file.type || 'n/a'}) - ${file.size} bytes, ` +\n",
              "        `last modified: ${\n",
              "            file.lastModifiedDate ? file.lastModifiedDate.toLocaleDateString() :\n",
              "                                    'n/a'} - `));\n",
              "    const percent = span('0% done');\n",
              "    li.appendChild(percent);\n",
              "\n",
              "    outputElement.appendChild(li);\n",
              "\n",
              "    const fileDataPromise = new Promise((resolve) => {\n",
              "      const reader = new FileReader();\n",
              "      reader.onload = (e) => {\n",
              "        resolve(e.target.result);\n",
              "      };\n",
              "      reader.readAsArrayBuffer(file);\n",
              "    });\n",
              "    // Wait for the data to be ready.\n",
              "    let fileData = yield {\n",
              "      promise: fileDataPromise,\n",
              "      response: {\n",
              "        action: 'continue',\n",
              "      }\n",
              "    };\n",
              "\n",
              "    // Use a chunked sending to avoid message size limits. See b/62115660.\n",
              "    let position = 0;\n",
              "    do {\n",
              "      const length = Math.min(fileData.byteLength - position, MAX_PAYLOAD_SIZE);\n",
              "      const chunk = new Uint8Array(fileData, position, length);\n",
              "      position += length;\n",
              "\n",
              "      const base64 = btoa(String.fromCharCode.apply(null, chunk));\n",
              "      yield {\n",
              "        response: {\n",
              "          action: 'append',\n",
              "          file: file.name,\n",
              "          data: base64,\n",
              "        },\n",
              "      };\n",
              "\n",
              "      let percentDone = fileData.byteLength === 0 ?\n",
              "          100 :\n",
              "          Math.round((position / fileData.byteLength) * 100);\n",
              "      percent.textContent = `${percentDone}% done`;\n",
              "\n",
              "    } while (position < fileData.byteLength);\n",
              "  }\n",
              "\n",
              "  // All done.\n",
              "  yield {\n",
              "    response: {\n",
              "      action: 'complete',\n",
              "    }\n",
              "  };\n",
              "}\n",
              "\n",
              "scope.google = scope.google || {};\n",
              "scope.google.colab = scope.google.colab || {};\n",
              "scope.google.colab._files = {\n",
              "  _uploadFiles,\n",
              "  _uploadFilesContinue,\n",
              "};\n",
              "})(self);\n",
              "</script> "
            ]
          },
          "metadata": {}
        },
        {
          "output_type": "stream",
          "name": "stdout",
          "text": [
            "Saving kaggle.json to kaggle.json\n",
            "User uploaded file \"kaggle.json\" with length 66 bytes\n"
          ]
        }
      ],
      "source": [
        "from google.colab import files\n",
        "\n",
        "uploaded = files.upload()\n",
        "\n",
        "for fn in uploaded.keys():\n",
        "    print('User uploaded file \"{name}\" with length {length} bytes'.format(\n",
        "        name=fn, length=len(uploaded[fn])))"
      ]
    },
    {
      "cell_type": "code",
      "execution_count": 4,
      "metadata": {
        "id": "nwnMA7dVNmjq"
      },
      "outputs": [],
      "source": [
        "!mkdir -p ~/.kaggle\n",
        "!mv kaggle.json ~/.kaggle/\n",
        "!chmod 600 /root/.kaggle/kaggle.json"
      ]
    },
    {
      "cell_type": "code",
      "execution_count": 5,
      "metadata": {
        "colab": {
          "base_uri": "https://localhost:8080/"
        },
        "id": "P6oGxk6ENql6",
        "outputId": "31e0d511-e704-444a-b29d-2588305226c9"
      },
      "outputs": [
        {
          "output_type": "stream",
          "name": "stdout",
          "text": [
            "Downloading apparel-images-dataset.zip to /content\n",
            "100% 247M/248M [00:15<00:00, 20.0MB/s]\n",
            "100% 248M/248M [00:15<00:00, 16.4MB/s]\n"
          ]
        }
      ],
      "source": [
        "!kaggle datasets download -d trolukovich/apparel-images-dataset"
      ]
    },
    {
      "cell_type": "code",
      "execution_count": 6,
      "metadata": {
        "id": "ozrdtx5VN2nO"
      },
      "outputs": [],
      "source": [
        "import zipfile\n",
        "import os\n",
        "\n",
        "with zipfile.ZipFile(\"apparel-images-dataset.zip\", \"r\") as zip_ref:\n",
        "    zip_ref.extractall(\"apparel-images-dataset\")"
      ]
    },
    {
      "cell_type": "code",
      "execution_count": 7,
      "metadata": {
        "colab": {
          "base_uri": "https://localhost:8080/"
        },
        "id": "Q-NXtOhNSmSt",
        "outputId": "36ae94b4-68f3-4ad7-8d85-b9515be93d62"
      },
      "outputs": [
        {
          "output_type": "stream",
          "name": "stdout",
          "text": [
            "['blue_shorts', 'green_shirt', 'green_shorts', 'white_dress', 'red_shoes', 'white_shorts', 'black_shoes', 'red_dress', 'white_shoes', 'blue_dress', 'white_pants', 'blue_shoes', 'blue_shirt', 'blue_pants', 'brown_shoes', 'black_dress', 'black_shirt', 'black_shorts', 'brown_shorts', 'green_shoes', 'brown_pants', 'green_pants', 'black_pants', 'red_pants']\n"
          ]
        }
      ],
      "source": [
        "# memverifikasi bahwa file telah diekstrak\n",
        "base_dir = 'apparel-images-dataset'\n",
        "print(os.listdir(base_dir))"
      ]
    },
    {
      "cell_type": "code",
      "execution_count": 8,
      "metadata": {
        "id": "nKnskL7qY19u"
      },
      "outputs": [],
      "source": [
        "# fungsi menghitung jumlah data untuk setiap kelas\n",
        "def count_data(directory):\n",
        "    return len(os.listdir(directory))"
      ]
    },
    {
      "cell_type": "code",
      "execution_count": 9,
      "metadata": {
        "id": "LFt3eXrWY9Dp"
      },
      "outputs": [],
      "source": [
        "classes = ['blue_pants', 'white_shoes', 'white_dress', 'blue_shorts', 'blue_shirt', 'blue_shoes', 'red_pants', 'black_pants', 'brown_shoes', 'white_pants', 'black_shorts', 'white_shorts', 'green_shirt', 'black_shoes', 'black_dress', 'green_shorts', 'blue_dress', 'black_shirt', 'red_shoes', 'green_pants', 'green_shoes', 'brown_pants', 'brown_shorts', 'red_dress']\n",
        "totals = {cls: count_data(os.path.join(base_dir, cls)) for cls in classes}"
      ]
    },
    {
      "cell_type": "code",
      "execution_count": 10,
      "metadata": {
        "colab": {
          "base_uri": "https://localhost:8080/"
        },
        "id": "xZYdAUYTZKi0",
        "outputId": "faf880a9-32f8-4e69-9e9f-481e269a7898"
      },
      "outputs": [
        {
          "output_type": "stream",
          "name": "stdout",
          "text": [
            "Total Data blue_pants Image: 798\n",
            "Total Data white_shoes Image: 600\n",
            "Total Data white_dress Image: 818\n",
            "Total Data blue_shorts Image: 299\n",
            "Total Data blue_shirt Image: 741\n",
            "Total Data blue_shoes Image: 523\n",
            "Total Data red_pants Image: 308\n",
            "Total Data black_pants Image: 871\n",
            "Total Data brown_shoes Image: 464\n",
            "Total Data white_pants Image: 274\n",
            "Total Data black_shorts Image: 328\n",
            "Total Data white_shorts Image: 120\n",
            "Total Data green_shirt Image: 230\n",
            "Total Data black_shoes Image: 766\n",
            "Total Data black_dress Image: 450\n",
            "Total Data green_shorts Image: 135\n",
            "Total Data blue_dress Image: 502\n",
            "Total Data black_shirt Image: 715\n",
            "Total Data red_shoes Image: 610\n",
            "Total Data green_pants Image: 227\n",
            "Total Data green_shoes Image: 455\n",
            "Total Data brown_pants Image: 311\n",
            "Total Data brown_shorts Image: 40\n",
            "Total Data red_dress Image: 800\n"
          ]
        }
      ],
      "source": [
        "# mencetak jumlah data untuk setiap kelas\n",
        "for cls, total in totals.items():\n",
        "    print(f\"Total Data {cls} Image: {total}\")"
      ]
    },
    {
      "cell_type": "code",
      "execution_count": 11,
      "metadata": {
        "id": "Oj0uQtpAZSyR"
      },
      "outputs": [],
      "source": [
        "# generator untuk augmentasi gambar & data train/validasi\n",
        "val_size = 0.2\n",
        "image_size = (150, 150)\n"
      ]
    },
    {
      "cell_type": "code",
      "execution_count": 12,
      "metadata": {
        "id": "lJ72BzlaaOS7"
      },
      "outputs": [],
      "source": [
        "datagen = ImageDataGenerator(\n",
        "    rotation_range=30,\n",
        "    brightness_range=[0.2, 1.0],\n",
        "    shear_range=0.2,\n",
        "    zoom_range=0.2,\n",
        "    horizontal_flip=True,\n",
        "    fill_mode=\"nearest\",\n",
        "    rescale=1./255,\n",
        "    validation_split=val_size\n",
        ")\n",
        "\n",
        "generator_params = dict(\n",
        "    target_size=image_size,\n",
        "    color_mode=\"rgb\",\n",
        "    class_mode=\"categorical\",\n",
        "    batch_size=128,\n",
        "    shuffle=True\n",
        ")"
      ]
    },
    {
      "cell_type": "code",
      "execution_count": 13,
      "metadata": {
        "colab": {
          "base_uri": "https://localhost:8080/"
        },
        "id": "ehs-9ItvabP0",
        "outputId": "6a196807-ecad-4bf5-bcaf-537aa6594b86"
      },
      "outputs": [
        {
          "output_type": "stream",
          "name": "stdout",
          "text": [
            "Found 9115 images belonging to 24 classes.\n",
            "Found 2270 images belonging to 24 classes.\n"
          ]
        }
      ],
      "source": [
        "train_generator = datagen.flow_from_directory(\n",
        "    base_dir,\n",
        "    subset=\"training\",\n",
        "    classes=classes,\n",
        "    **generator_params\n",
        ")\n",
        "\n",
        "val_generator = datagen.flow_from_directory(\n",
        "    base_dir,\n",
        "    subset=\"validation\",\n",
        "    classes=classes,\n",
        "    **generator_params\n",
        ")"
      ]
    },
    {
      "cell_type": "code",
      "execution_count": 14,
      "metadata": {
        "id": "7SLB6OrfenV2"
      },
      "outputs": [],
      "source": [
        "# pembuatan model dengan output layer sesuai dengan jumlah kelas baru\n",
        "num_classes = len(classes)"
      ]
    },
    {
      "cell_type": "code",
      "execution_count": 15,
      "metadata": {
        "colab": {
          "base_uri": "https://localhost:8080/"
        },
        "id": "Ft8uyyyeai2t",
        "outputId": "46bb6c52-980c-4e6e-d2c3-d47613b83722"
      },
      "outputs": [
        {
          "output_type": "stream",
          "name": "stdout",
          "text": [
            "Model: \"sequential\"\n",
            "_________________________________________________________________\n",
            " Layer (type)                Output Shape              Param #   \n",
            "=================================================================\n",
            " conv2d (Conv2D)             (None, 148, 148, 32)      896       \n",
            "                                                                 \n",
            " batch_normalization (Batch  (None, 148, 148, 32)      128       \n",
            " Normalization)                                                  \n",
            "                                                                 \n",
            " conv2d_1 (Conv2D)           (None, 148, 148, 32)      9248      \n",
            "                                                                 \n",
            " batch_normalization_1 (Bat  (None, 148, 148, 32)      128       \n",
            " chNormalization)                                                \n",
            "                                                                 \n",
            " max_pooling2d (MaxPooling2  (None, 74, 74, 32)        0         \n",
            " D)                                                              \n",
            "                                                                 \n",
            " dropout (Dropout)           (None, 74, 74, 32)        0         \n",
            "                                                                 \n",
            " conv2d_2 (Conv2D)           (None, 74, 74, 64)        18496     \n",
            "                                                                 \n",
            " batch_normalization_2 (Bat  (None, 74, 74, 64)        256       \n",
            " chNormalization)                                                \n",
            "                                                                 \n",
            " conv2d_3 (Conv2D)           (None, 74, 74, 64)        36928     \n",
            "                                                                 \n",
            " batch_normalization_3 (Bat  (None, 74, 74, 64)        256       \n",
            " chNormalization)                                                \n",
            "                                                                 \n",
            " max_pooling2d_1 (MaxPoolin  (None, 37, 37, 64)        0         \n",
            " g2D)                                                            \n",
            "                                                                 \n",
            " dropout_1 (Dropout)         (None, 37, 37, 64)        0         \n",
            "                                                                 \n",
            " conv2d_4 (Conv2D)           (None, 37, 37, 128)       73856     \n",
            "                                                                 \n",
            " batch_normalization_4 (Bat  (None, 37, 37, 128)       512       \n",
            " chNormalization)                                                \n",
            "                                                                 \n",
            " conv2d_5 (Conv2D)           (None, 37, 37, 128)       147584    \n",
            "                                                                 \n",
            " batch_normalization_5 (Bat  (None, 37, 37, 128)       512       \n",
            " chNormalization)                                                \n",
            "                                                                 \n",
            " max_pooling2d_2 (MaxPoolin  (None, 19, 19, 128)       0         \n",
            " g2D)                                                            \n",
            "                                                                 \n",
            " dropout_2 (Dropout)         (None, 19, 19, 128)       0         \n",
            "                                                                 \n",
            " flatten (Flatten)           (None, 46208)             0         \n",
            "                                                                 \n",
            " dense (Dense)               (None, 512)               23659008  \n",
            "                                                                 \n",
            " batch_normalization_6 (Bat  (None, 512)               2048      \n",
            " chNormalization)                                                \n",
            "                                                                 \n",
            " dropout_3 (Dropout)         (None, 512)               0         \n",
            "                                                                 \n",
            " dense_1 (Dense)             (None, 128)               65664     \n",
            "                                                                 \n",
            " dropout_4 (Dropout)         (None, 128)               0         \n",
            "                                                                 \n",
            " dense_2 (Dense)             (None, 24)                3096      \n",
            "                                                                 \n",
            "=================================================================\n",
            "Total params: 24018616 (91.62 MB)\n",
            "Trainable params: 24016696 (91.62 MB)\n",
            "Non-trainable params: 1920 (7.50 KB)\n",
            "_________________________________________________________________\n"
          ]
        }
      ],
      "source": [
        "# pembuatan model image classification\n",
        "model = Sequential([\n",
        "    Conv2D(32, (3, 3), activation='relu', input_shape=(150, 150, 3)),\n",
        "    BatchNormalization(),\n",
        "    Conv2D(32, (3, 3), activation='relu', padding='same'),\n",
        "    BatchNormalization(axis=3),\n",
        "    MaxPooling2D(pool_size=(2, 2), padding='same'),\n",
        "    Dropout(0.3),\n",
        "    Conv2D(64, (3, 3), activation='relu', padding='same'),\n",
        "    BatchNormalization(),\n",
        "    Conv2D(64, (3, 3), activation='relu', padding='same'),\n",
        "    BatchNormalization(axis=3),\n",
        "    MaxPooling2D(pool_size=(2, 2), padding='same'),\n",
        "    Dropout(0.3),\n",
        "    Conv2D(128, (3, 3), activation='relu', padding='same'),\n",
        "    BatchNormalization(),\n",
        "    Conv2D(128, (3, 3), activation='relu', padding='same'),\n",
        "    BatchNormalization(axis=3),\n",
        "    MaxPooling2D(pool_size=(2, 2), padding='same'),\n",
        "    Dropout(0.5),\n",
        "    Flatten(),\n",
        "    Dense(512, activation='relu'),\n",
        "    BatchNormalization(),\n",
        "    Dropout(0.5),\n",
        "    Dense(128, activation='relu'),\n",
        "    Dropout(0.25),\n",
        "    Dense(num_classes, activation='softmax')\n",
        "])\n",
        "\n",
        "model.compile(optimizer='adam', loss='categorical_crossentropy', metrics=['accuracy'])\n",
        "model.summary()"
      ]
    },
    {
      "cell_type": "code",
      "execution_count": 16,
      "metadata": {
        "id": "DoSB4vo1au6B"
      },
      "outputs": [],
      "source": [
        "# penggunaan callbacks\n",
        "models_dir = \"saved_models\"\n",
        "if not os.path.exists(models_dir):\n",
        "    os.makedirs(models_dir)\n",
        "\n",
        "checkpointer = ModelCheckpoint(filepath='saved_models/model_vanilla.hdf5',\n",
        "                               monitor='val_accuracy', mode='max',\n",
        "                               verbose=1, save_best_only=True)\n",
        "early_stopping = EarlyStopping(monitor='val_loss', mode='min', verbose=1, patience=3)\n",
        "reduce_lr = ReduceLROnPlateau(monitor='val_loss', factor=0.2, patience=2, min_lr=0.001)\n",
        "callbacks = [early_stopping, reduce_lr, checkpointer]"
      ]
    },
    {
      "cell_type": "code",
      "execution_count": 17,
      "metadata": {
        "colab": {
          "base_uri": "https://localhost:8080/"
        },
        "id": "IjnIpvg7cG2D",
        "outputId": "3222a9a8-daee-43ca-bd02-ea52ab9c618b"
      },
      "outputs": [
        {
          "output_type": "stream",
          "name": "stdout",
          "text": [
            "Epoch 1/20\n",
            "72/72 [==============================] - ETA: 0s - loss: 2.0559 - accuracy: 0.4136\n",
            "Epoch 1: val_accuracy improved from -inf to 0.02423, saving model to saved_models/model_vanilla.hdf5\n"
          ]
        },
        {
          "output_type": "stream",
          "name": "stderr",
          "text": [
            "/usr/local/lib/python3.10/dist-packages/keras/src/engine/training.py:3103: UserWarning: You are saving your model as an HDF5 file via `model.save()`. This file format is considered legacy. We recommend using instead the native Keras format, e.g. `model.save('my_model.keras')`.\n",
            "  saving_api.save_model(\n"
          ]
        },
        {
          "output_type": "stream",
          "name": "stdout",
          "text": [
            "\b\b\b\b\b\b\b\b\b\b\b\b\b\b\b\b\b\b\b\b\b\b\b\b\b\b\b\b\b\b\b\b\b\b\b\b\b\b\b\b\b\b\b\b\b\b\b\b\b\b\b\b\b\b\b\b\b\b\b\b\b\b\b\b\b\b\b\b\b\b\b\b\b\b\b\b\b\b\b\b\b\b\r72/72 [==============================] - 135s 2s/step - loss: 2.0559 - accuracy: 0.4136 - val_loss: 8.1166 - val_accuracy: 0.0242 - lr: 0.0010\n",
            "Epoch 2/20\n",
            "72/72 [==============================] - ETA: 0s - loss: 1.2680 - accuracy: 0.6134\n",
            "Epoch 2: val_accuracy improved from 0.02423 to 0.02687, saving model to saved_models/model_vanilla.hdf5\n",
            "72/72 [==============================] - 107s 1s/step - loss: 1.2680 - accuracy: 0.6134 - val_loss: 9.0732 - val_accuracy: 0.0269 - lr: 0.0010\n",
            "Epoch 3/20\n",
            "72/72 [==============================] - ETA: 0s - loss: 1.0277 - accuracy: 0.6812\n",
            "Epoch 3: val_accuracy improved from 0.02687 to 0.06784, saving model to saved_models/model_vanilla.hdf5\n",
            "72/72 [==============================] - 105s 1s/step - loss: 1.0277 - accuracy: 0.6812 - val_loss: 6.7293 - val_accuracy: 0.0678 - lr: 0.0010\n",
            "Epoch 4/20\n",
            "72/72 [==============================] - ETA: 0s - loss: 0.9036 - accuracy: 0.7231\n",
            "Epoch 4: val_accuracy improved from 0.06784 to 0.16828, saving model to saved_models/model_vanilla.hdf5\n",
            "72/72 [==============================] - 106s 1s/step - loss: 0.9036 - accuracy: 0.7231 - val_loss: 5.0069 - val_accuracy: 0.1683 - lr: 0.0010\n",
            "Epoch 5/20\n",
            "72/72 [==============================] - ETA: 0s - loss: 0.8137 - accuracy: 0.7484\n",
            "Epoch 5: val_accuracy improved from 0.16828 to 0.20264, saving model to saved_models/model_vanilla.hdf5\n",
            "72/72 [==============================] - 104s 1s/step - loss: 0.8137 - accuracy: 0.7484 - val_loss: 3.5608 - val_accuracy: 0.2026 - lr: 0.0010\n",
            "Epoch 6/20\n",
            "72/72 [==============================] - ETA: 0s - loss: 0.7374 - accuracy: 0.7681\n",
            "Epoch 6: val_accuracy improved from 0.20264 to 0.21189, saving model to saved_models/model_vanilla.hdf5\n",
            "72/72 [==============================] - 110s 2s/step - loss: 0.7374 - accuracy: 0.7681 - val_loss: 5.0255 - val_accuracy: 0.2119 - lr: 0.0010\n",
            "Epoch 7/20\n",
            "72/72 [==============================] - ETA: 0s - loss: 0.6583 - accuracy: 0.7926\n",
            "Epoch 7: val_accuracy improved from 0.21189 to 0.34229, saving model to saved_models/model_vanilla.hdf5\n",
            "72/72 [==============================] - 107s 1s/step - loss: 0.6583 - accuracy: 0.7926 - val_loss: 2.9852 - val_accuracy: 0.3423 - lr: 0.0010\n",
            "Epoch 8/20\n",
            "72/72 [==============================] - ETA: 0s - loss: 0.5996 - accuracy: 0.8110\n",
            "Epoch 8: val_accuracy improved from 0.34229 to 0.61894, saving model to saved_models/model_vanilla.hdf5\n",
            "72/72 [==============================] - 108s 1s/step - loss: 0.5996 - accuracy: 0.8110 - val_loss: 1.3987 - val_accuracy: 0.6189 - lr: 0.0010\n",
            "Epoch 9/20\n",
            "72/72 [==============================] - ETA: 0s - loss: 0.5697 - accuracy: 0.8237\n",
            "Epoch 9: val_accuracy improved from 0.61894 to 0.82203, saving model to saved_models/model_vanilla.hdf5\n",
            "72/72 [==============================] - 106s 1s/step - loss: 0.5697 - accuracy: 0.8237 - val_loss: 0.6144 - val_accuracy: 0.8220 - lr: 0.0010\n",
            "Epoch 10/20\n",
            "72/72 [==============================] - ETA: 0s - loss: 0.5356 - accuracy: 0.8334\n",
            "Epoch 10: val_accuracy did not improve from 0.82203\n",
            "72/72 [==============================] - 103s 1s/step - loss: 0.5356 - accuracy: 0.8334 - val_loss: 1.6526 - val_accuracy: 0.5388 - lr: 0.0010\n",
            "Epoch 11/20\n",
            "72/72 [==============================] - ETA: 0s - loss: 0.5265 - accuracy: 0.8340\n",
            "Epoch 11: val_accuracy did not improve from 0.82203\n",
            "72/72 [==============================] - 101s 1s/step - loss: 0.5265 - accuracy: 0.8340 - val_loss: 0.7868 - val_accuracy: 0.7454 - lr: 0.0010\n",
            "Epoch 12/20\n",
            "72/72 [==============================] - ETA: 0s - loss: 0.5070 - accuracy: 0.8355\n",
            "Epoch 12: val_accuracy did not improve from 0.82203\n",
            "72/72 [==============================] - 102s 1s/step - loss: 0.5070 - accuracy: 0.8355 - val_loss: 0.8332 - val_accuracy: 0.7445 - lr: 0.0010\n",
            "Epoch 12: early stopping\n"
          ]
        }
      ],
      "source": [
        "# melatih model\n",
        "history = model.fit(train_generator, epochs=20, validation_data=val_generator, callbacks=callbacks)"
      ]
    },
    {
      "cell_type": "code",
      "execution_count": 18,
      "metadata": {
        "id": "8KPP14_tcRpf",
        "colab": {
          "base_uri": "https://localhost:8080/",
          "height": 472
        },
        "outputId": "fd891c6e-c5b5-44eb-cea3-e2b5b1881c40"
      },
      "outputs": [
        {
          "output_type": "display_data",
          "data": {
            "text/plain": [
              "<Figure size 640x480 with 1 Axes>"
            ],
            "image/png": "[encoded data removed]"
          },
          "metadata": {}
        }
      ],
      "source": [
        "# membuat visualisasi plot accuracy\n",
        "plt.plot(history.history['accuracy'])\n",
        "plt.plot(history.history['val_accuracy'])\n",
        "plt.title('Accuracy')\n",
        "plt.ylabel('accuracy')\n",
        "plt.xlabel('epoch')\n",
        "plt.legend(['train', 'val'], loc='upper left')\n",
        "plt.show()"
      ]
    },
    {
      "cell_type": "code",
      "execution_count": 19,
      "metadata": {
        "id": "4vqmUyHXcXRb",
        "colab": {
          "base_uri": "https://localhost:8080/",
          "height": 472
        },
        "outputId": "e2df3b49-f58b-4264-d624-ef64267e6e9d"
      },
      "outputs": [
        {
          "output_type": "display_data",
          "data": {
            "text/plain": [
              "<Figure size 640x480 with 1 Axes>"
            ],
            "image/png": "[encoded data removed]"
          },
          "metadata": {}
        }
      ],
      "source": [
        "# membuat visualisasi plot loss\n",
        "plt.plot(history.history['loss'])\n",
        "plt.plot(history.history['val_loss'])\n",
        "plt.title('Loss')\n",
        "plt.ylabel('loss')\n",
        "plt.xlabel('epoch')\n",
        "plt.legend(['train', 'val'], loc='upper left')\n",
        "plt.show()"
      ]
    },
    {
      "cell_type": "code",
      "execution_count": 20,
      "metadata": {
        "id": "_ULXuV36cadg"
      },
      "outputs": [],
      "source": [
        "# menkonversi model ke format TFLite\n",
        "converter = tf.lite.TFLiteConverter.from_keras_model(model)\n",
        "tflite_model = converter.convert()\n"
      ]
    },
    {
      "cell_type": "code",
      "execution_count": 21,
      "metadata": {
        "id": "zgEugivrcekD"
      },
      "outputs": [],
      "source": [
        "# menyimpan model TFLite\n",
        "with tf.io.gfile.GFile('model.tflite', 'wb') as f:\n",
        "    f.write(tflite_model)"
      ]
    }
  ],
  "metadata": {
    "colab": {
      "provenance": [],
      "gpuType": "T4"
    },
    "kernelspec": {
      "display_name": "Python 3",
      "name": "python3"
    },
    "language_info": {
      "name": "python"
    },
    "accelerator": "GPU"
  },
  "nbformat": 4,
  "nbformat_minor": 0
}